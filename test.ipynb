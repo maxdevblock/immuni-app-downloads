{
 "cells": [
  {
   "cell_type": "code",
   "execution_count": 2,
   "metadata": {},
   "outputs": [],
   "source": [
    "import time\n",
    "\n",
    "import werkzeug\n",
    "werkzeug.cached_property = werkzeug.utils.cached_property\n",
    "from robobrowser import RoboBrowser\n",
    "\n",
    "import numpy as np\n",
    "import pandas as pd\n",
    "import scipy.stats as sps\n",
    "import matplotlib.pyplot as plt\n",
    "from matplotlib import dates as mdates\n",
    "from matplotlib import ticker\n",
    "\n",
    "from IPython.display import clear_output"
   ]
  },
  {
   "cell_type": "code",
   "execution_count": 25,
   "metadata": {},
   "outputs": [],
   "source": [
    "APPS = [\n",
    "    \"https://play.google.com/store/apps/details?id=it.ministerodellasalute.immuni&hl=it_IT\",\n",
    "    \"https://play.google.com/store/apps/details?id=it.mds.mammainsalute&hl=it_IT\",\n",
    "    \"https://play.google.com/store/apps/details?id=com.accenture.com&hl=it_IT\",\n",
    "    \"https://play.google.com/store/apps/details?id=com.gag.salvaunavita&hl=it_IT\",\n",
    "    \"https://play.google.com/store/apps/details?id=it.inps.mobile.app.servizi.activity&hl=it_IT\",\n",
    "    \"https://play.google.com/store/apps/details?id=it.inps.mobile.app.tablet&hl=it_IT\",\n",
    "    \"https://play.google.com/store/apps/details?id=it.inps.mobile.app.welfare&hl=it_IT\",\n",
    "    \"https://play.google.com/store/apps/details?id=it.inps.mobile.app.ufficiostampa&hl=it_IT\",\n",
    "    \"https://play.google.com/store/apps/details?id=it.inps.inpspersonal&hl=it_IT\",\n",
    "    \"https://play.google.com/store/apps/details?id=inps.musei&hl=it_IT\",\n",
    "    \"https://play.google.com/store/apps/details?id=it.inps.mobile.app.ufficiostampatablet&hl=it_IT\",\n",
    "    \"https://play.google.com/store/apps/details?id=it.inps.inpspersonal.tablet&hl=it_IT\",\n",
    "    \"https://play.google.com/store/apps/details?id=inps.artcom&hl=it_IT\",\n",
    "    \"https://play.google.com/store/apps/details?id=it.lispa.siss.gp.salutile&hl=it_IT\",\n",
    "    \"https://play.google.com/store/apps/details?id=it.lispa.siss.app.mobile.salutile.referti&hl=it_IT\",\n",
    "    \"https://play.google.com/store/apps/details?id=it.lispa.siss.app.mobile.salutile.vaccinazioni&hl=it_IT\",\n",
    "    \"https://play.google.com/store/apps/details?id=it.lispa.siss.app.mobile.salutile.ps&hl=it_IT\",\n",
    "    \"https://play.google.com/store/apps/details?id=it.lispa.siss.app.mobile.salutile.ricette&hl=it_IT\",\n",
    "    \"https://play.google.com/store/apps/details?id=it.lispa.siss.app.mobile.salutile.noglutine&hl=it_IT\",\n",
    "    \"https://play.google.com/store/apps/details?id=it.lispa.siss.app.mobile.veterinaria.zampaazampa&hl=it_IT\",\n",
    "    \"https://play.google.com/store/apps/details?id=it.Beta80Group.whereareu&hl=it_IT\",\n",
    "    \"https://play.google.com/store/apps/details?id=it.lispa.sire.app.mobile.allertalom&hl=it_IT\",\n",
    "    \"https://play.google.com/store/apps/details?id=it.comunicaitalia.sistemadiallerta&hl=it_IT\",\n",
    "    \"https://play.google.com/store/apps/details?id=com.protezionecivilecalabria.easyalert&hl=it_IT\",\n",
    "    \"https://play.google.com/store/apps/details?id=it.sardegna.regione.protezionecivile&hl=it_IT\",\n",
    "    \"https://play.google.com/store/apps/details?id=it.livorno.comune.protcivli&hl=it_IT\",\n",
    "    \"https://play.google.com/store/apps/details?id=it.fvg.protezionecivile.mopic&hl=it_IT\",\n",
    "    \"https://play.google.com/store/apps/details?id=it.univaq.allarmeteo&hl=it_IT\",\n",
    "    \"https://play.google.com/store/apps/details?id=it.zerobyte.zeroapp_newsprovli&hl=it_IT\",\n",
    "    \"https://play.google.com/store/apps/details?id=it.iwikiphone.portaleautomobilista&hl=it_IT\",\n",
    "    # non istituzionali\n",
    "    \"https://play.google.com/store/apps/details?id=io.faceapp&hl=it_IT\",\n",
    "    \"https://play.google.com/store/apps/details?id=com.teacapps.barcodescanner&hl=it_IT\",\n",
    "    \"https://play.google.com/store/apps/details?id=com.zhiliaoapp.musically&hl=it_IT\",\n",
    "    \"https://play.google.com/store/apps/details?id=com.zzkko&hl=it_IT\",\n",
    "    \"https://play.google.com/store/apps/details?id=it.wind.myWind&hl=it_IT\",\n",
    "    \"https://play.google.com/store/apps/details?id=com.google.android.apps.subscriptions.red&hl=it_IT\",\n",
    "    \"https://play.google.com/store/apps/details?id=com.disney.disneyplus&hl=it_IT\",\n",
    "    \"https://play.google.com/store/apps/details?id=com.AnotheReality.MR.FINITheExperience&hl=it_IT\",\n",
    "    \"https://play.google.com/store/apps/details?id=com.flowe.flowe&hl=it_IT\",\n",
    "    \"https://play.google.com/store/apps/details?id=appinventor.ai_luigialfonso1982.iLiad_App&hl=it_IT\",\n",
    "    \"https://play.google.com/store/apps/details?id=com.prequel.app&hl=it_IT\",\n",
    "    \"https://play.google.com/store/apps/details?id=com.dazn&hl=it_IT\",\n",
    "    \"https://play.google.com/store/apps/details?id=tv.twitch.android.app&hl=it_IT\",\n",
    "    \"https://play.google.com/store/apps/details?id=sg.bigo.live&hl=it_IT\",\n",
    "    \"https://play.google.com/store/apps/details?id=com.tinder&hl=it_IT\",\n",
    "    \"https://play.google.com/store/apps/details?id=com.google.android.apps.meetings&hl=it_IT\",\n",
    "    \"https://play.google.com/store/apps/details?id=posteitaliane.posteapp.appposteid&hl=it_IT\",\n",
    "    \"https://play.google.com/store/apps/details?id=us.zoom.videomeetings&hl=it_IT\",\n",
    "    \"https://play.google.com/store/apps/details?id=com.contextlogic.wish&hl=it_IT\",\n",
    "    \"https://play.google.com/store/apps/details?id=com.whatsapp&hl=it_IT\",\n",
    "    \"https://play.google.com/store/apps/details?id=org.telegram.messenger&hl=it_IT\",\n",
    "    \"https://play.google.com/store/apps/details?id=com.gamma.scan&hl=it_IT\",\n",
    "    \"https://play.google.com/store/apps/details?id=com.picsart.studio&hl=it_IT\",\n",
    "    \"https://play.google.com/store/apps/details?id=com.amazon.mShop.android.shopping&hl=it_IT\",\n",
    "    \"https://play.google.com/store/apps/details?id=com.instagram.android&hl=it_IT\",\n",
    "    \"https://play.google.com/store/apps/details?id=com.pinterest&hl=it_IT\",\n",
    "    \"https://play.google.com/store/apps/details?id=com.ebay.mobile&hl=it_IT\",\n",
    "    \"https://play.google.com/store/apps/details?id=de.zalando.mobile&hl=it_IT\",\n",
    "    \"https://play.google.com/store/apps/details?id=com.spotify.music&hl=it_IT\",\n",
    "    \"https://play.google.com/store/apps/details?id=it.rainet&hl=it_IT\",\n",
    "    \"https://play.google.com/store/apps/details?id=com.netflix.mediaclient&hl=it_IT\",\n",
    "    \"https://play.google.com/store/apps/details?id=com.UnipolSaiApp&hl=it_IT\",\n",
    "    \"https://play.google.com/store/apps/details?id=com.microsoft.teams&hl=it_IT\",\n",
    "    \"https://play.google.com/store/apps/details?id=com.vova.android&hl=it_IT\",\n",
    "    \"https://play.google.com/store/apps/details?id=it.fabbricadigitale.android.videomediaset&hl=it_IT\",\n",
    "    \"https://play.google.com/store/apps/details?id=it.hype.app&hl=it_IT\",\n",
    "    \"https://play.google.com/store/apps/details?id=com.ilmeteo.android.ilmeteo&hl=it_IT\",\n",
    "    \"https://play.google.com/store/apps/details?id=posteitaliane.posteapp.apppostepay&hl=it_IT\",\n",
    "    \"https://play.google.com/store/apps/details?id=com.snapchat.android&hl=it_IT\",\n",
    "    \"https://play.google.com/store/apps/details?id=com.shazam.android&hl=it_IT\",\n",
    "    \"https://play.google.com/store/apps/details?id=com.facebook.orca&hl=it_IT\",\n",
    "]"
   ]
  },
  {
   "cell_type": "code",
   "execution_count": 26,
   "metadata": {
    "scrolled": false
   },
   "outputs": [
    {
     "name": "stdout",
     "output_type": "stream",
     "text": [
      "(1/71) --> https://play.google.com/store/apps/details?id=it.ministerodellasalute.immuni&hl=it_IT\n",
      "18129 / 1000000 = 0.018129\n",
      "(2/71) --> https://play.google.com/store/apps/details?id=it.mds.mammainsalute&hl=it_IT\n",
      "22 / 5000 = 0.0044\n",
      "(3/71) --> https://play.google.com/store/apps/details?id=com.accenture.com&hl=it_IT\n",
      "58 / 1000 = 0.058\n",
      "(4/71) --> https://play.google.com/store/apps/details?id=com.gag.salvaunavita&hl=it_IT\n",
      "ERROR\n",
      "(5/71) --> https://play.google.com/store/apps/details?id=it.inps.mobile.app.servizi.activity&hl=it_IT\n",
      "16391 / 1000000 = 0.016391\n",
      "(6/71) --> https://play.google.com/store/apps/details?id=it.inps.mobile.app.tablet&hl=it_IT\n",
      "784 / 100000 = 0.00784\n",
      "(7/71) --> https://play.google.com/store/apps/details?id=it.inps.mobile.app.welfare&hl=it_IT\n",
      "13 / 5000 = 0.0026\n",
      "(8/71) --> https://play.google.com/store/apps/details?id=it.inps.mobile.app.ufficiostampa&hl=it_IT\n",
      "149 / 10000 = 0.0149\n",
      "(9/71) --> https://play.google.com/store/apps/details?id=it.inps.inpspersonal&hl=it_IT\n",
      "63 / 10000 = 0.0063\n",
      "(10/71) --> https://play.google.com/store/apps/details?id=inps.musei&hl=it_IT\n",
      "19 / 1000 = 0.019\n",
      "(11/71) --> https://play.google.com/store/apps/details?id=it.inps.mobile.app.ufficiostampatablet&hl=it_IT\n",
      "22 / 1000 = 0.022\n",
      "(12/71) --> https://play.google.com/store/apps/details?id=it.inps.inpspersonal.tablet&hl=it_IT\n",
      "10 / 1000 = 0.01\n",
      "(13/71) --> https://play.google.com/store/apps/details?id=inps.artcom&hl=it_IT\n",
      "list index out of range\n",
      "(14/71) --> https://play.google.com/store/apps/details?id=it.lispa.siss.gp.salutile&hl=it_IT\n",
      "645 / 100000 = 0.00645\n",
      "(15/71) --> https://play.google.com/store/apps/details?id=it.lispa.siss.app.mobile.salutile.referti&hl=it_IT\n",
      "902 / 100000 = 0.00902\n",
      "(16/71) --> https://play.google.com/store/apps/details?id=it.lispa.siss.app.mobile.salutile.vaccinazioni&hl=it_IT\n",
      "54 / 10000 = 0.0054\n",
      "(17/71) --> https://play.google.com/store/apps/details?id=it.lispa.siss.app.mobile.salutile.ps&hl=it_IT\n",
      "363 / 100000 = 0.00363\n",
      "(18/71) --> https://play.google.com/store/apps/details?id=it.lispa.siss.app.mobile.salutile.ricette&hl=it_IT\n",
      "228 / 50000 = 0.00456\n",
      "(19/71) --> https://play.google.com/store/apps/details?id=it.lispa.siss.app.mobile.salutile.noglutine&hl=it_IT\n",
      "51 / 5000 = 0.0102\n",
      "(20/71) --> https://play.google.com/store/apps/details?id=it.lispa.siss.app.mobile.veterinaria.zampaazampa&hl=it_IT\n",
      "54 / 10000 = 0.0054\n",
      "(21/71) --> https://play.google.com/store/apps/details?id=it.Beta80Group.whereareu&hl=it_IT\n",
      "list index out of range\n",
      "(22/71) --> https://play.google.com/store/apps/details?id=it.lispa.sire.app.mobile.allertalom&hl=it_IT\n",
      "3637 / 500000 = 0.007274\n",
      "(23/71) --> https://play.google.com/store/apps/details?id=it.comunicaitalia.sistemadiallerta&hl=it_IT\n",
      "39 / 5000 = 0.0078\n",
      "(24/71) --> https://play.google.com/store/apps/details?id=com.protezionecivilecalabria.easyalert&hl=it_IT\n",
      "365 / 10000 = 0.0365\n",
      "(25/71) --> https://play.google.com/store/apps/details?id=it.sardegna.regione.protezionecivile&hl=it_IT\n",
      "7 / 1000 = 0.007\n",
      "(26/71) --> https://play.google.com/store/apps/details?id=it.livorno.comune.protcivli&hl=it_IT\n",
      "list index out of range\n",
      "(27/71) --> https://play.google.com/store/apps/details?id=it.fvg.protezionecivile.mopic&hl=it_IT\n",
      "109 / 5000 = 0.0218\n",
      "(28/71) --> https://play.google.com/store/apps/details?id=it.univaq.allarmeteo&hl=it_IT\n",
      "list index out of range\n",
      "(29/71) --> https://play.google.com/store/apps/details?id=it.zerobyte.zeroapp_newsprovli&hl=it_IT\n",
      "24 / 1000 = 0.024\n",
      "(30/71) --> https://play.google.com/store/apps/details?id=it.iwikiphone.portaleautomobilista&hl=it_IT\n",
      "15844 / 1000000 = 0.015844\n",
      "(31/71) --> https://play.google.com/store/apps/details?id=io.faceapp&hl=it_IT\n",
      "2796236 / 100000000 = 0.02796236\n",
      "(32/71) --> https://play.google.com/store/apps/details?id=com.teacapps.barcodescanner&hl=it_IT\n",
      "131157 / 10000000 = 0.0131157\n",
      "(33/71) --> https://play.google.com/store/apps/details?id=com.zhiliaoapp.musically&hl=it_IT\n",
      "20345891 / 1000000000 = 0.020345891\n",
      "(34/71) --> https://play.google.com/store/apps/details?id=com.zzkko&hl=it_IT\n",
      "1214320 / 100000000 = 0.0121432\n",
      "(35/71) --> https://play.google.com/store/apps/details?id=it.wind.myWind&hl=it_IT\n",
      "441159 / 10000000 = 0.0441159\n",
      "(36/71) --> https://play.google.com/store/apps/details?id=com.google.android.apps.subscriptions.red&hl=it_IT\n",
      "68010 / 10000000 = 0.006801\n",
      "(37/71) --> https://play.google.com/store/apps/details?id=com.disney.disneyplus&hl=it_IT\n",
      "229267 / 10000000 = 0.0229267\n",
      "(38/71) --> https://play.google.com/store/apps/details?id=com.AnotheReality.MR.FINITheExperience&hl=it_IT\n",
      "list index out of range\n",
      "(39/71) --> https://play.google.com/store/apps/details?id=com.flowe.flowe&hl=it_IT\n",
      "154 / 10000 = 0.0154\n",
      "(40/71) --> https://play.google.com/store/apps/details?id=appinventor.ai_luigialfonso1982.iLiad_App&hl=it_IT\n",
      "47 / 10000 = 0.0047\n",
      "(41/71) --> https://play.google.com/store/apps/details?id=com.prequel.app&hl=it_IT\n",
      "6988 / 1000000 = 0.006988\n",
      "(42/71) --> https://play.google.com/store/apps/details?id=com.dazn&hl=it_IT\n",
      "149089 / 10000000 = 0.0149089\n",
      "(43/71) --> https://play.google.com/store/apps/details?id=tv.twitch.android.app&hl=it_IT\n",
      "3337445 / 100000000 = 0.03337445\n",
      "(44/71) --> https://play.google.com/store/apps/details?id=sg.bigo.live&hl=it_IT\n",
      "3938679 / 100000000 = 0.03938679\n",
      "(45/71) --> https://play.google.com/store/apps/details?id=com.tinder&hl=it_IT\n",
      "3902842 / 100000000 = 0.03902842\n",
      "(46/71) --> https://play.google.com/store/apps/details?id=com.google.android.apps.meetings&hl=it_IT\n",
      "197723 / 50000000 = 0.00395446\n",
      "(47/71) --> https://play.google.com/store/apps/details?id=posteitaliane.posteapp.appposteid&hl=it_IT\n",
      "109675 / 1000000 = 0.109675\n",
      "(48/71) --> https://play.google.com/store/apps/details?id=us.zoom.videomeetings&hl=it_IT\n",
      "93012 / 100000000 = 0.00093012\n",
      "(49/71) --> https://play.google.com/store/apps/details?id=com.contextlogic.wish&hl=it_IT\n",
      "9850064 / 100000000 = 0.09850064\n",
      "(50/71) --> https://play.google.com/store/apps/details?id=com.whatsapp&hl=it_IT\n",
      "114930057 / 5000000000 = 0.0229860114\n",
      "(51/71) --> https://play.google.com/store/apps/details?id=org.telegram.messenger&hl=it_IT\n",
      "5323725 / 500000000 = 0.01064745\n",
      "(52/71) --> https://play.google.com/store/apps/details?id=com.gamma.scan&hl=it_IT\n",
      "1226286 / 100000000 = 0.01226286\n",
      "(53/71) --> https://play.google.com/store/apps/details?id=com.picsart.studio&hl=it_IT\n",
      "9583333 / 500000000 = 0.019166666\n",
      "(54/71) --> https://play.google.com/store/apps/details?id=com.amazon.mShop.android.shopping&hl=it_IT\n",
      "1405951 / 100000000 = 0.01405951\n",
      "(55/71) --> https://play.google.com/store/apps/details?id=com.instagram.android&hl=it_IT\n",
      "101241454 / 1000000000 = 0.101241454\n",
      "(56/71) --> https://play.google.com/store/apps/details?id=com.pinterest&hl=it_IT\n",
      "6554345 / 100000000 = 0.06554345\n",
      "(57/71) --> https://play.google.com/store/apps/details?id=com.ebay.mobile&hl=it_IT\n",
      "3273342 / 100000000 = 0.03273342\n",
      "(58/71) --> https://play.google.com/store/apps/details?id=de.zalando.mobile&hl=it_IT\n",
      "428055 / 10000000 = 0.0428055\n",
      "(59/71) --> https://play.google.com/store/apps/details?id=com.spotify.music&hl=it_IT\n",
      "list index out of range\n",
      "(60/71) --> https://play.google.com/store/apps/details?id=it.rainet&hl=it_IT\n",
      "list index out of range\n",
      "(61/71) --> https://play.google.com/store/apps/details?id=com.netflix.mediaclient&hl=it_IT\n",
      "9097861 / 500000000 = 0.018195722\n",
      "(62/71) --> https://play.google.com/store/apps/details?id=com.UnipolSaiApp&hl=it_IT\n",
      "list index out of range\n",
      "(63/71) --> https://play.google.com/store/apps/details?id=com.microsoft.teams&hl=it_IT\n",
      "990157 / 50000000 = 0.01980314\n",
      "(64/71) --> https://play.google.com/store/apps/details?id=com.vova.android&hl=it_IT\n",
      "1723441 / 10000000 = 0.1723441\n",
      "(65/71) --> https://play.google.com/store/apps/details?id=it.fabbricadigitale.android.videomediaset&hl=it_IT\n",
      "list index out of range\n",
      "(66/71) --> https://play.google.com/store/apps/details?id=it.hype.app&hl=it_IT\n",
      "list index out of range\n",
      "(67/71) --> https://play.google.com/store/apps/details?id=com.ilmeteo.android.ilmeteo&hl=it_IT\n",
      "653602 / 10000000 = 0.0653602\n",
      "(68/71) --> https://play.google.com/store/apps/details?id=posteitaliane.posteapp.apppostepay&hl=it_IT\n",
      "190309 / 5000000 = 0.0380618\n",
      "(69/71) --> https://play.google.com/store/apps/details?id=com.snapchat.android&hl=it_IT\n",
      "list index out of range\n",
      "(70/71) --> https://play.google.com/store/apps/details?id=com.shazam.android&hl=it_IT\n"
     ]
    },
    {
     "name": "stdout",
     "output_type": "stream",
     "text": [
      "list index out of range\n",
      "(71/71) --> https://play.google.com/store/apps/details?id=com.facebook.orca&hl=it_IT\n",
      "73012497 / 1000000000 = 0.073012497\n"
     ]
    }
   ],
   "source": [
    "done = []\n",
    "rates = []\n",
    "for i, app in enumerate(APPS):\n",
    "    reviews = None\n",
    "    downloads = None\n",
    "    browser = RoboBrowser(history=False, parser=\"lxml\")\n",
    "    print(f\"({i+1}/{len(APPS)}) --> {app}\")\n",
    "    browser.open(app)\n",
    "    reviews_elements = browser.select(\"span.AYi5wd.TBRnV\")\n",
    "    try:\n",
    "        reviews = int(reviews_elements[0].text.replace(\".\", \"\"))\n",
    "    except Exception as err:\n",
    "        print(err)\n",
    "        continue\n",
    "    downloads_elements = browser.select(\".htlgb\")\n",
    "    for download in downloads_elements:\n",
    "        if \"+\" in download.text:\n",
    "            downloads = int(download.text.replace(\"+\", \"\").replace(\".\", \"\"))\n",
    "            break\n",
    "    if not reviews or not downloads:\n",
    "        print(\"ERROR\")\n",
    "        continue\n",
    "    rate = reviews / downloads\n",
    "    rates.append(rate)\n",
    "    done.append(done)\n",
    "    print(f\"{reviews} / {downloads} = {rate}\")"
   ]
  },
  {
   "cell_type": "code",
   "execution_count": 27,
   "metadata": {},
   "outputs": [],
   "source": [
    "rates = np.array(rates)"
   ]
  },
  {
   "cell_type": "code",
   "execution_count": 28,
   "metadata": {},
   "outputs": [],
   "source": [
    "df_rates = pd.DataFrame(rates)\n",
    "df_rates.to_csv(\"rates.csv\", index=False)"
   ]
  },
  {
   "cell_type": "code",
   "execution_count": 30,
   "metadata": {},
   "outputs": [
    {
     "data": {
      "text/html": [
       "<div>\n",
       "<style scoped>\n",
       "    .dataframe tbody tr th:only-of-type {\n",
       "        vertical-align: middle;\n",
       "    }\n",
       "\n",
       "    .dataframe tbody tr th {\n",
       "        vertical-align: top;\n",
       "    }\n",
       "\n",
       "    .dataframe thead th {\n",
       "        text-align: right;\n",
       "    }\n",
       "</style>\n",
       "<table border=\"1\" class=\"dataframe\">\n",
       "  <thead>\n",
       "    <tr style=\"text-align: right;\">\n",
       "      <th></th>\n",
       "      <th>0</th>\n",
       "    </tr>\n",
       "  </thead>\n",
       "  <tbody>\n",
       "    <tr>\n",
       "      <th>0</th>\n",
       "      <td>0.018129</td>\n",
       "    </tr>\n",
       "    <tr>\n",
       "      <th>1</th>\n",
       "      <td>0.004400</td>\n",
       "    </tr>\n",
       "    <tr>\n",
       "      <th>2</th>\n",
       "      <td>0.058000</td>\n",
       "    </tr>\n",
       "    <tr>\n",
       "      <th>3</th>\n",
       "      <td>0.016391</td>\n",
       "    </tr>\n",
       "    <tr>\n",
       "      <th>4</th>\n",
       "      <td>0.007840</td>\n",
       "    </tr>\n",
       "    <tr>\n",
       "      <th>5</th>\n",
       "      <td>0.002600</td>\n",
       "    </tr>\n",
       "    <tr>\n",
       "      <th>6</th>\n",
       "      <td>0.014900</td>\n",
       "    </tr>\n",
       "    <tr>\n",
       "      <th>7</th>\n",
       "      <td>0.006300</td>\n",
       "    </tr>\n",
       "    <tr>\n",
       "      <th>8</th>\n",
       "      <td>0.019000</td>\n",
       "    </tr>\n",
       "    <tr>\n",
       "      <th>9</th>\n",
       "      <td>0.022000</td>\n",
       "    </tr>\n",
       "    <tr>\n",
       "      <th>10</th>\n",
       "      <td>0.010000</td>\n",
       "    </tr>\n",
       "    <tr>\n",
       "      <th>11</th>\n",
       "      <td>0.006450</td>\n",
       "    </tr>\n",
       "    <tr>\n",
       "      <th>12</th>\n",
       "      <td>0.009020</td>\n",
       "    </tr>\n",
       "    <tr>\n",
       "      <th>13</th>\n",
       "      <td>0.005400</td>\n",
       "    </tr>\n",
       "    <tr>\n",
       "      <th>14</th>\n",
       "      <td>0.003630</td>\n",
       "    </tr>\n",
       "    <tr>\n",
       "      <th>15</th>\n",
       "      <td>0.004560</td>\n",
       "    </tr>\n",
       "    <tr>\n",
       "      <th>16</th>\n",
       "      <td>0.010200</td>\n",
       "    </tr>\n",
       "    <tr>\n",
       "      <th>17</th>\n",
       "      <td>0.005400</td>\n",
       "    </tr>\n",
       "    <tr>\n",
       "      <th>18</th>\n",
       "      <td>0.007274</td>\n",
       "    </tr>\n",
       "    <tr>\n",
       "      <th>19</th>\n",
       "      <td>0.007800</td>\n",
       "    </tr>\n",
       "    <tr>\n",
       "      <th>20</th>\n",
       "      <td>0.036500</td>\n",
       "    </tr>\n",
       "    <tr>\n",
       "      <th>21</th>\n",
       "      <td>0.007000</td>\n",
       "    </tr>\n",
       "    <tr>\n",
       "      <th>22</th>\n",
       "      <td>0.021800</td>\n",
       "    </tr>\n",
       "    <tr>\n",
       "      <th>23</th>\n",
       "      <td>0.024000</td>\n",
       "    </tr>\n",
       "    <tr>\n",
       "      <th>24</th>\n",
       "      <td>0.015844</td>\n",
       "    </tr>\n",
       "    <tr>\n",
       "      <th>25</th>\n",
       "      <td>0.027962</td>\n",
       "    </tr>\n",
       "    <tr>\n",
       "      <th>26</th>\n",
       "      <td>0.013116</td>\n",
       "    </tr>\n",
       "    <tr>\n",
       "      <th>27</th>\n",
       "      <td>0.020346</td>\n",
       "    </tr>\n",
       "    <tr>\n",
       "      <th>28</th>\n",
       "      <td>0.012143</td>\n",
       "    </tr>\n",
       "    <tr>\n",
       "      <th>29</th>\n",
       "      <td>0.044116</td>\n",
       "    </tr>\n",
       "    <tr>\n",
       "      <th>30</th>\n",
       "      <td>0.006801</td>\n",
       "    </tr>\n",
       "    <tr>\n",
       "      <th>31</th>\n",
       "      <td>0.022927</td>\n",
       "    </tr>\n",
       "    <tr>\n",
       "      <th>32</th>\n",
       "      <td>0.015400</td>\n",
       "    </tr>\n",
       "    <tr>\n",
       "      <th>33</th>\n",
       "      <td>0.004700</td>\n",
       "    </tr>\n",
       "    <tr>\n",
       "      <th>34</th>\n",
       "      <td>0.006988</td>\n",
       "    </tr>\n",
       "    <tr>\n",
       "      <th>35</th>\n",
       "      <td>0.014909</td>\n",
       "    </tr>\n",
       "    <tr>\n",
       "      <th>36</th>\n",
       "      <td>0.033374</td>\n",
       "    </tr>\n",
       "    <tr>\n",
       "      <th>37</th>\n",
       "      <td>0.039387</td>\n",
       "    </tr>\n",
       "    <tr>\n",
       "      <th>38</th>\n",
       "      <td>0.039028</td>\n",
       "    </tr>\n",
       "    <tr>\n",
       "      <th>39</th>\n",
       "      <td>0.003954</td>\n",
       "    </tr>\n",
       "    <tr>\n",
       "      <th>40</th>\n",
       "      <td>0.109675</td>\n",
       "    </tr>\n",
       "    <tr>\n",
       "      <th>41</th>\n",
       "      <td>0.000930</td>\n",
       "    </tr>\n",
       "    <tr>\n",
       "      <th>42</th>\n",
       "      <td>0.098501</td>\n",
       "    </tr>\n",
       "    <tr>\n",
       "      <th>43</th>\n",
       "      <td>0.022986</td>\n",
       "    </tr>\n",
       "    <tr>\n",
       "      <th>44</th>\n",
       "      <td>0.010647</td>\n",
       "    </tr>\n",
       "    <tr>\n",
       "      <th>45</th>\n",
       "      <td>0.012263</td>\n",
       "    </tr>\n",
       "    <tr>\n",
       "      <th>46</th>\n",
       "      <td>0.019167</td>\n",
       "    </tr>\n",
       "    <tr>\n",
       "      <th>47</th>\n",
       "      <td>0.014060</td>\n",
       "    </tr>\n",
       "    <tr>\n",
       "      <th>48</th>\n",
       "      <td>0.101241</td>\n",
       "    </tr>\n",
       "    <tr>\n",
       "      <th>49</th>\n",
       "      <td>0.065543</td>\n",
       "    </tr>\n",
       "    <tr>\n",
       "      <th>50</th>\n",
       "      <td>0.032733</td>\n",
       "    </tr>\n",
       "    <tr>\n",
       "      <th>51</th>\n",
       "      <td>0.042806</td>\n",
       "    </tr>\n",
       "    <tr>\n",
       "      <th>52</th>\n",
       "      <td>0.018196</td>\n",
       "    </tr>\n",
       "    <tr>\n",
       "      <th>53</th>\n",
       "      <td>0.019803</td>\n",
       "    </tr>\n",
       "    <tr>\n",
       "      <th>54</th>\n",
       "      <td>0.172344</td>\n",
       "    </tr>\n",
       "    <tr>\n",
       "      <th>55</th>\n",
       "      <td>0.065360</td>\n",
       "    </tr>\n",
       "    <tr>\n",
       "      <th>56</th>\n",
       "      <td>0.038062</td>\n",
       "    </tr>\n",
       "    <tr>\n",
       "      <th>57</th>\n",
       "      <td>0.073012</td>\n",
       "    </tr>\n",
       "  </tbody>\n",
       "</table>\n",
       "</div>"
      ],
      "text/plain": [
       "           0\n",
       "0   0.018129\n",
       "1   0.004400\n",
       "2   0.058000\n",
       "3   0.016391\n",
       "4   0.007840\n",
       "5   0.002600\n",
       "6   0.014900\n",
       "7   0.006300\n",
       "8   0.019000\n",
       "9   0.022000\n",
       "10  0.010000\n",
       "11  0.006450\n",
       "12  0.009020\n",
       "13  0.005400\n",
       "14  0.003630\n",
       "15  0.004560\n",
       "16  0.010200\n",
       "17  0.005400\n",
       "18  0.007274\n",
       "19  0.007800\n",
       "20  0.036500\n",
       "21  0.007000\n",
       "22  0.021800\n",
       "23  0.024000\n",
       "24  0.015844\n",
       "25  0.027962\n",
       "26  0.013116\n",
       "27  0.020346\n",
       "28  0.012143\n",
       "29  0.044116\n",
       "30  0.006801\n",
       "31  0.022927\n",
       "32  0.015400\n",
       "33  0.004700\n",
       "34  0.006988\n",
       "35  0.014909\n",
       "36  0.033374\n",
       "37  0.039387\n",
       "38  0.039028\n",
       "39  0.003954\n",
       "40  0.109675\n",
       "41  0.000930\n",
       "42  0.098501\n",
       "43  0.022986\n",
       "44  0.010647\n",
       "45  0.012263\n",
       "46  0.019167\n",
       "47  0.014060\n",
       "48  0.101241\n",
       "49  0.065543\n",
       "50  0.032733\n",
       "51  0.042806\n",
       "52  0.018196\n",
       "53  0.019803\n",
       "54  0.172344\n",
       "55  0.065360\n",
       "56  0.038062\n",
       "57  0.073012"
      ]
     },
     "execution_count": 30,
     "metadata": {},
     "output_type": "execute_result"
    }
   ],
   "source": [
    "df_rates = pd.read_csv(\"rates.csv\")\n",
    "df_rates"
   ]
  },
  {
   "cell_type": "code",
   "execution_count": 83,
   "metadata": {},
   "outputs": [
    {
     "data": {
      "text/plain": [
       "Text(0.5, 0, 'Campioni')"
      ]
     },
     "execution_count": 83,
     "metadata": {},
     "output_type": "execute_result"
    },
    {
     "data": {
      "image/png": "[encoded data removed]",
      "text/plain": [
       "<Figure size 432x288 with 1 Axes>"
      ]
     },
     "metadata": {
      "needs_background": "light"
     },
     "output_type": "display_data"
    }
   ],
   "source": [
    "plt.plot(\n",
    "    sorted(rates),\n",
    "    marker=\"o\"\n",
    ")\n",
    "plt.ylabel(\"Valori osservati\")\n",
    "plt.xlabel(\"Campioni\")"
   ]
  },
  {
   "cell_type": "code",
   "execution_count": 243,
   "metadata": {},
   "outputs": [
    {
     "data": {
      "image/png": "[encoded data removed]",
      "text/plain": [
       "<Figure size 432x288 with 1 Axes>"
      ]
     },
     "metadata": {
      "needs_background": "light"
     },
     "output_type": "display_data"
    }
   ],
   "source": [
    "alpha = 1.9\n",
    "beta = 100\n",
    "plt.hist(df_rates[\"0\"], density=True, histtype=\"step\", alpha=.5, bins=30, label=\"PDF dati\")\n",
    "dist = sps.beta(a=alpha, b=beta)\n",
    "#rvs = dist.rvs(1000)\n",
    "#plt.hist(rvs, density=True, alpha=.1, bins=5)\n",
    "x = np.linspace(\n",
    "    0,\n",
    "    .1,\n",
    "    1000\n",
    ")\n",
    "y = dist.pdf(x)\n",
    "plt.plot(x, y, label=\"Distribuzione\")\n",
    "\n",
    "#lo95, hi95 = HDIofICDF(sps.beta, credMass=.95, a=alpha, b=beta)\n",
    "#lo50, hi50 = HDIofICDF(sps.beta, credMass=.50, a=alpha, b=beta)\n",
    "#plt.plot(\n",
    "#    [lo95, hi95], [dist.pdf(lo95), dist.pdf(hi95)], c=\"r\", \n",
    "#    label=f\"CI 95% = {lo95:.2f}-{hi95:.2f}\")\n",
    "#plt.plot(\n",
    "#    [lo50, hi50], [dist.pdf(lo50), dist.pdf(hi50)], c=\"r\", \n",
    "#    label=f\"CI 50% = {lo50:.2f}-{hi50:.2f}\")\n",
    "#omega = x[dist.pdf(x).argmax()]\n",
    "#plt.axvline(omega, c=\"k\", ls=\":\")\n",
    "\n",
    "plt.scatter(rates[0], dist.pdf(rates[0]), c=\"k\")\n",
    "\n",
    "#mu = dist.ppf(.5)\n",
    "mu = rates[0]\n",
    "plt.axvline(mu, c=\"k\", ls=\"-\", lw=1, label=fr\"$x={mu:.4f}$\")\n",
    "\n",
    "alpha1 = .05\n",
    "alpha2 = .1\n",
    "r_min_1 = dist.ppf(dist.cdf(mu)-alpha1/2)\n",
    "r_max_1 = dist.ppf(dist.cdf(mu)+alpha1/2)\n",
    "r_min_2 = dist.ppf(dist.cdf(mu)-alpha2/2)\n",
    "r_max_2 = dist.ppf(dist.cdf(mu)+alpha2/2)\n",
    "plt.fill_betweenx([0,40], r_min_1, r_max_1, color=\"r\", alpha=.2, label=fr\"$\\alpha = {alpha1*100:.0f}\\%$\")\n",
    "plt.fill_betweenx([0,40], r_min_2, r_max_2, color=\"g\", alpha=.15, label=fr\"$\\alpha = {alpha2*100:.0f}\\%$\")\n",
    "\n",
    "plt.legend(loc=\"upper right\")\n",
    "\n",
    "plt.xlabel(\"Valori osservati\")\n",
    "plt.ylabel(\"Densità di probabilità\")\n",
    "plt.title(fr\"Distribuzione $\\mathbf{{Beta}}(\\alpha={alpha}, \\beta={beta})$\")\n",
    "\n",
    "plt.xlim(0, .08)\n",
    "plt.ylim(0, 40)\n",
    "plt.show();"
   ]
  },
  {
   "cell_type": "code",
   "execution_count": 319,
   "metadata": {},
   "outputs": [
    {
     "data": {
      "text/plain": [
       "0.0270039347"
      ]
     },
     "execution_count": 319,
     "metadata": {},
     "output_type": "execute_result"
    }
   ],
   "source": [
    "rates.mean()"
   ]
  },
  {
   "cell_type": "code",
   "execution_count": 320,
   "metadata": {},
   "outputs": [
    {
     "data": {
      "text/plain": [
       "0.23833396925352449"
      ]
     },
     "execution_count": 320,
     "metadata": {},
     "output_type": "execute_result"
    }
   ],
   "source": [
    "rates.std(ddof=len(rates)-1)"
   ]
  },
  {
   "cell_type": "code",
   "execution_count": 203,
   "metadata": {},
   "outputs": [
    {
     "data": {
      "text/plain": [
       "0.018129"
      ]
     },
     "execution_count": 203,
     "metadata": {},
     "output_type": "execute_result"
    }
   ],
   "source": [
    "rates[0]"
   ]
  },
  {
   "cell_type": "code",
   "execution_count": 360,
   "metadata": {},
   "outputs": [
    {
     "data": {
      "text/plain": [
       "<matplotlib.lines.Line2D at 0x7fab45187810>"
      ]
     },
     "execution_count": 360,
     "metadata": {},
     "output_type": "execute_result"
    },
    {
     "data": {
      "image/png": "[encoded data removed]",
      "text/plain": [
       "<Figure size 432x288 with 1 Axes>"
      ]
     },
     "metadata": {
      "needs_background": "light"
     },
     "output_type": "display_data"
    }
   ],
   "source": [
    "_x = np.linspace(0, rates[0]*2, 100)\n",
    "yerr = sps.norm(loc=rates[0], scale=.003)\n",
    "_y = yerr.pdf(_x)\n",
    "plt.plot(\n",
    "    _x,\n",
    "    _y\n",
    ")\n",
    "plt.axvline(rates[0], c=\"k\", ls=\":\")"
   ]
  },
  {
   "cell_type": "code",
   "execution_count": 322,
   "metadata": {},
   "outputs": [
    {
     "data": {
      "text/plain": [
       "array([0.02672097, 0.02685534, 0.02700393, 0.02715253, 0.0272869 ])"
      ]
     },
     "execution_count": 322,
     "metadata": {},
     "output_type": "execute_result"
    }
   ],
   "source": [
    "def mean_confidence_interval(data, dist=dist, confidence=[.95, .5]):\n",
    "    res = np.array([])\n",
    "    a = 1.0 * np.array(data)\n",
    "    n = len(a)\n",
    "    m, se = np.mean(a), sps.sem(a)\n",
    "    res = np.append(res, m)\n",
    "    for c in confidence:\n",
    "        h = se * dist.ppf((1 + c) / 2.)\n",
    "        res = np.append(res, [m-h, m+h])\n",
    "    return np.array(sorted(res))\n",
    "rr = mean_confidence_interval(rates)\n",
    "rr"
   ]
  },
  {
   "cell_type": "code",
   "execution_count": 228,
   "metadata": {},
   "outputs": [
    {
     "data": {
      "text/plain": [
       "0.015701893345916578"
      ]
     },
     "execution_count": 228,
     "metadata": {},
     "output_type": "execute_result"
    }
   ],
   "source": [
    "dist.ppf(.5)"
   ]
  },
  {
   "cell_type": "code",
   "execution_count": 229,
   "metadata": {},
   "outputs": [
    {
     "data": {
      "text/plain": [
       "array([0.0054])"
      ]
     },
     "execution_count": 229,
     "metadata": {},
     "output_type": "execute_result"
    }
   ],
   "source": [
    "rate_mode, _ = sps.mode(rates)\n",
    "rate_mode"
   ]
  },
  {
   "cell_type": "code",
   "execution_count": 245,
   "metadata": {},
   "outputs": [],
   "source": [
    "# got from play store 18 June 2020\n",
    "downloads_reviews_rates = np.array([\n",
    "    r_min_2,\n",
    "    r_min_1,\n",
    "    mu,\n",
    "    r_max_1,\n",
    "    r_max_2\n",
    "])\n",
    "\n",
    "it_pop = 60359546\n",
    "\n",
    "rates_df = pd.DataFrame({\n",
    "    \"rates\": [r_min_2, r_min_1, mu, r_max_1, r_max_2]\n",
    "})\n",
    "rates_df.to_csv(\"rates_levels.csv\", index=False)"
   ]
  },
  {
   "cell_type": "code",
   "execution_count": 48,
   "metadata": {},
   "outputs": [],
   "source": [
    "browser = RoboBrowser(history=False, parser=\"lxml\")\n",
    "browser.open(\"https://play.google.com/store/apps/details?id=it.ministerodellasalute.immuni&hl=it_IT\")"
   ]
  },
  {
   "cell_type": "code",
   "execution_count": 49,
   "metadata": {},
   "outputs": [],
   "source": [
    "google = browser.select(\".AYi5wd.TBRnV\")"
   ]
  },
  {
   "cell_type": "code",
   "execution_count": 50,
   "metadata": {},
   "outputs": [
    {
     "data": {
      "text/plain": [
       "18142"
      ]
     },
     "execution_count": 50,
     "metadata": {},
     "output_type": "execute_result"
    }
   ],
   "source": [
    "google_reviews = int(google[0].text.replace(\".\", \"\"))\n",
    "google_reviews"
   ]
  },
  {
   "cell_type": "code",
   "execution_count": 233,
   "metadata": {},
   "outputs": [
    {
     "data": {
      "text/plain": [
       "array([1100202.52267959, 1049095.64292444, 1000717.08312648,\n",
       "        954721.75833636,  910804.0147867 ])"
      ]
     },
     "execution_count": 233,
     "metadata": {},
     "output_type": "execute_result"
    }
   ],
   "source": [
    "google_downloads = google_reviews * 1 / downloads_reviews_rates\n",
    "google_downloads"
   ]
  },
  {
   "cell_type": "code",
   "execution_count": 52,
   "metadata": {},
   "outputs": [],
   "source": [
    "browser = RoboBrowser(history=False, parser=\"lxml\")\n",
    "browser.open(\"https://apps.apple.com/it/app/immuni/id1513940977\")"
   ]
  },
  {
   "cell_type": "code",
   "execution_count": 53,
   "metadata": {},
   "outputs": [],
   "source": [
    "apple = browser.select(\".we-customer-ratings__count.small-hide.medium-show\")"
   ]
  },
  {
   "cell_type": "code",
   "execution_count": 54,
   "metadata": {},
   "outputs": [
    {
     "data": {
      "text/plain": [
       "7426"
      ]
     },
     "execution_count": 54,
     "metadata": {},
     "output_type": "execute_result"
    }
   ],
   "source": [
    "apple_reviews = int(apple[0].text.split(\" \")[0].replace(\",\", \"\"))\n",
    "apple_reviews"
   ]
  },
  {
   "cell_type": "code",
   "execution_count": 234,
   "metadata": {},
   "outputs": [
    {
     "data": {
      "text/plain": [
       "array([450341.96524191, 429422.56886545, 409619.94594296, 390792.84408587,\n",
       "       372816.15113031])"
      ]
     },
     "execution_count": 234,
     "metadata": {},
     "output_type": "execute_result"
    }
   ],
   "source": [
    "apple_downloads = apple_reviews * 1 / downloads_reviews_rates\n",
    "apple_downloads"
   ]
  },
  {
   "cell_type": "code",
   "execution_count": 235,
   "metadata": {},
   "outputs": [
    {
     "data": {
      "text/plain": [
       "array([1550544.4879215 , 1478518.21178989, 1410337.02906945,\n",
       "       1345514.60242223, 1283620.16591701])"
      ]
     },
     "execution_count": 235,
     "metadata": {},
     "output_type": "execute_result"
    }
   ],
   "source": [
    "total_downloads = google_downloads + apple_downloads\n",
    "total_downloads"
   ]
  },
  {
   "cell_type": "code",
   "execution_count": 236,
   "metadata": {},
   "outputs": [
    {
     "data": {
      "text/plain": [
       "array([0.02568847, 0.02449518, 0.0233656 , 0.02229166, 0.02126623])"
      ]
     },
     "execution_count": 236,
     "metadata": {},
     "output_type": "execute_result"
    }
   ],
   "source": [
    "percentage = total_downloads / it_pop\n",
    "percentage"
   ]
  },
  {
   "cell_type": "code",
   "execution_count": 237,
   "metadata": {},
   "outputs": [],
   "source": [
    "today = pd.Timestamp.now().date()"
   ]
  },
  {
   "cell_type": "code",
   "execution_count": 298,
   "metadata": {},
   "outputs": [],
   "source": [
    "dic = {\n",
    "    \"date\": today,\n",
    "    \"total_min_2\": total_downloads[0],\n",
    "    \"total_min_1\": total_downloads[1],\n",
    "    \"total_mean\": total_downloads[2],\n",
    "    \"total_max_1\": total_downloads[3],\n",
    "    \"total_max_2\": total_downloads[4],\n",
    "}"
   ]
  },
  {
   "cell_type": "code",
   "execution_count": 299,
   "metadata": {},
   "outputs": [
    {
     "data": {
      "text/html": [
       "<div>\n",
       "<style scoped>\n",
       "    .dataframe tbody tr th:only-of-type {\n",
       "        vertical-align: middle;\n",
       "    }\n",
       "\n",
       "    .dataframe tbody tr th {\n",
       "        vertical-align: top;\n",
       "    }\n",
       "\n",
       "    .dataframe thead th {\n",
       "        text-align: right;\n",
       "    }\n",
       "</style>\n",
       "<table border=\"1\" class=\"dataframe\">\n",
       "  <thead>\n",
       "    <tr style=\"text-align: right;\">\n",
       "      <th></th>\n",
       "      <th>date</th>\n",
       "      <th>total_min_2</th>\n",
       "      <th>total_min_1</th>\n",
       "      <th>total_mean</th>\n",
       "      <th>total_max_1</th>\n",
       "      <th>total_max_2</th>\n",
       "    </tr>\n",
       "  </thead>\n",
       "  <tbody>\n",
       "    <tr>\n",
       "      <th>date</th>\n",
       "      <td>2020-06-18</td>\n",
       "      <td>1.550544e+06</td>\n",
       "      <td>1.478518e+06</td>\n",
       "      <td>1.410337e+06</td>\n",
       "      <td>1.345515e+06</td>\n",
       "      <td>1.283620e+06</td>\n",
       "    </tr>\n",
       "  </tbody>\n",
       "</table>\n",
       "</div>"
      ],
      "text/plain": [
       "            date   total_min_2   total_min_1    total_mean   total_max_1  \\\n",
       "date  2020-06-18  1.550544e+06  1.478518e+06  1.410337e+06  1.345515e+06   \n",
       "\n",
       "       total_max_2  \n",
       "date  1.283620e+06  "
      ]
     },
     "execution_count": 299,
     "metadata": {},
     "output_type": "execute_result"
    }
   ],
   "source": [
    "df = pd.DataFrame(dic, index=[\"date\"])\n",
    "df"
   ]
  },
  {
   "cell_type": "code",
   "execution_count": 264,
   "metadata": {},
   "outputs": [
    {
     "data": {
      "text/html": [
       "<div>\n",
       "<style scoped>\n",
       "    .dataframe tbody tr th:only-of-type {\n",
       "        vertical-align: middle;\n",
       "    }\n",
       "\n",
       "    .dataframe tbody tr th {\n",
       "        vertical-align: top;\n",
       "    }\n",
       "\n",
       "    .dataframe thead th {\n",
       "        text-align: right;\n",
       "    }\n",
       "</style>\n",
       "<table border=\"1\" class=\"dataframe\">\n",
       "  <thead>\n",
       "    <tr style=\"text-align: right;\">\n",
       "      <th></th>\n",
       "      <th>total_min_2</th>\n",
       "      <th>total_min_1</th>\n",
       "      <th>total_mean</th>\n",
       "      <th>total_max_1</th>\n",
       "      <th>total_max_2</th>\n",
       "    </tr>\n",
       "    <tr>\n",
       "      <th>date</th>\n",
       "      <th></th>\n",
       "      <th></th>\n",
       "      <th></th>\n",
       "      <th></th>\n",
       "      <th></th>\n",
       "    </tr>\n",
       "  </thead>\n",
       "  <tbody>\n",
       "    <tr>\n",
       "      <th>2020-06-01</th>\n",
       "      <td>0.000000e+00</td>\n",
       "      <td>0.000000e+00</td>\n",
       "      <td>0.000000e+00</td>\n",
       "      <td>0.000000e+00</td>\n",
       "      <td>0.000000e+00</td>\n",
       "    </tr>\n",
       "    <tr>\n",
       "      <th>2020-06-18</th>\n",
       "      <td>1.550544e+06</td>\n",
       "      <td>1.478518e+06</td>\n",
       "      <td>1.410337e+06</td>\n",
       "      <td>1.345515e+06</td>\n",
       "      <td>1.283620e+06</td>\n",
       "    </tr>\n",
       "    <tr>\n",
       "      <th>2020-06-19</th>\n",
       "      <td>1.553577e+06</td>\n",
       "      <td>1.481410e+06</td>\n",
       "      <td>1.413095e+06</td>\n",
       "      <td>1.348146e+06</td>\n",
       "      <td>1.286130e+06</td>\n",
       "    </tr>\n",
       "    <tr>\n",
       "      <th>2020-06-20</th>\n",
       "      <td>1.554244e+06</td>\n",
       "      <td>1.482046e+06</td>\n",
       "      <td>1.413702e+06</td>\n",
       "      <td>1.348725e+06</td>\n",
       "      <td>1.286683e+06</td>\n",
       "    </tr>\n",
       "  </tbody>\n",
       "</table>\n",
       "</div>"
      ],
      "text/plain": [
       "             total_min_2   total_min_1    total_mean   total_max_1  \\\n",
       "date                                                                 \n",
       "2020-06-01  0.000000e+00  0.000000e+00  0.000000e+00  0.000000e+00   \n",
       "2020-06-18  1.550544e+06  1.478518e+06  1.410337e+06  1.345515e+06   \n",
       "2020-06-19  1.553577e+06  1.481410e+06  1.413095e+06  1.348146e+06   \n",
       "2020-06-20  1.554244e+06  1.482046e+06  1.413702e+06  1.348725e+06   \n",
       "\n",
       "             total_max_2  \n",
       "date                      \n",
       "2020-06-01  0.000000e+00  \n",
       "2020-06-18  1.283620e+06  \n",
       "2020-06-19  1.286130e+06  \n",
       "2020-06-20  1.286683e+06  "
      ]
     },
     "execution_count": 264,
     "metadata": {},
     "output_type": "execute_result"
    }
   ],
   "source": [
    "df = pd.read_csv(\"immuni.csv\", index_col=[\"date\"], parse_dates=[\"date\"])\n",
    "df"
   ]
  },
  {
   "cell_type": "code",
   "execution_count": 272,
   "metadata": {},
   "outputs": [
    {
     "data": {
      "text/plain": [
       "<matplotlib.legend.Legend at 0x7f94b8363b10>"
      ]
     },
     "execution_count": 272,
     "metadata": {},
     "output_type": "execute_result"
    },
    {
     "data": {
      "image/png": "[encoded data removed]",
      "text/plain": [
       "<Figure size 504x504 with 2 Axes>"
      ]
     },
     "metadata": {
      "needs_background": "light"
     },
     "output_type": "display_data"
    }
   ],
   "source": [
    "fig, ax = plt.subplots(2, 1, figsize=(7,7), sharex=True)\n",
    "ax[0].fill_between(\n",
    "    df.index,\n",
    "    df[\"total_min_2\"],\n",
    "    df[\"total_max_2\"],\n",
    "    alpha=.1, label=fr\"$\\pm {alpha2*100:.0f}\\%$\"\n",
    ")\n",
    "ax[0].fill_between(\n",
    "    df.index,\n",
    "    df[\"total_min_1\"],\n",
    "    df[\"total_max_1\"],\n",
    "    alpha=.2, label=fr\"$\\pm {alpha1*100:.0f}\\%$\"\n",
    ")\n",
    "ax[0].plot(\n",
    "    df.index,\n",
    "    df[\"total_mean\"],\n",
    "    c=\"k\", label=\"media\"\n",
    ")\n",
    "# PERCENTAGE\n",
    "ax[1].plot(\n",
    "    df.index,\n",
    "    df[\"total_mean\"]/it_pop*100,\n",
    "    c=\"k\", label=\"media\"\n",
    ")\n",
    "ax[1].fill_between(\n",
    "    df.index,\n",
    "    df[\"total_min_2\"]/it_pop*100,\n",
    "    df[\"total_max_2\"]/it_pop*100,\n",
    "    alpha=.1, label=fr\"$\\pm {alpha2*100:.0f}\\%$\"\n",
    ")\n",
    "ax[1].fill_between(\n",
    "    df.index,\n",
    "    df[\"total_min_1\"]/it_pop*100,\n",
    "    df[\"total_max_1\"]/it_pop*100,\n",
    "    alpha=.2, label=fr\"$\\pm {alpha1*100:.0f}\\%$\"\n",
    ")\n",
    "ax[0].set_title(\"Stima downloads totali (Google Play + App Store)\")\n",
    "ax[0].ticklabel_format(style='plain', axis=\"y\")\n",
    "ax[0].axhline(0, c=\"k\", alpha=.2)\n",
    "ax[0].xaxis.set_major_locator(mdates.WeekdayLocator())\n",
    "ax[0].xaxis.set_major_formatter(mdates.DateFormatter('%d %b'))\n",
    "ax[0].xaxis.set_minor_locator(mdates.DayLocator())\n",
    "ax[0].legend(loc=\"upper left\")\n",
    "\n",
    "ax[1].set_title(\"Stima percentuale di downloads su popolazione italiana\")\n",
    "ax[1].yaxis.set_major_formatter(ticker.PercentFormatter())\n",
    "ax[1].axhline(0, c=\"k\", alpha=.2)\n",
    "ax[1].legend(loc=\"upper left\")"
   ]
  },
  {
   "cell_type": "code",
   "execution_count": 278,
   "metadata": {},
   "outputs": [],
   "source": [
    "df.to_csv(\"immuni.csv\", index=True)"
   ]
  },
  {
   "cell_type": "code",
   "execution_count": 84,
   "metadata": {},
   "outputs": [
    {
     "data": {
      "text/plain": [
       "1273221.0"
      ]
     },
     "execution_count": 84,
     "metadata": {},
     "output_type": "execute_result"
    }
   ],
   "source": [
    "total_downloads * .9"
   ]
  },
  {
   "cell_type": "code",
   "execution_count": 247,
   "metadata": {},
   "outputs": [
    {
     "data": {
      "text/plain": [
       "0    0.016490\n",
       "1    0.017293\n",
       "2    0.018129\n",
       "3    0.019002\n",
       "4    0.019919\n",
       "Name: rates, dtype: float64"
      ]
     },
     "execution_count": 247,
     "metadata": {},
     "output_type": "execute_result"
    }
   ],
   "source": [
    "pd.read_csv(\"rates_levels.csv\")[\"rates\"]"
   ]
  },
  {
   "cell_type": "code",
   "execution_count": 270,
   "metadata": {},
   "outputs": [
    {
     "data": {
      "text/plain": [
       "Index(['total_min_2', 'total_min_1', 'total_mean', 'total_max_1',\n",
       "       'total_max_2'],\n",
       "      dtype='object')"
      ]
     },
     "execution_count": 270,
     "metadata": {},
     "output_type": "execute_result"
    }
   ],
   "source": [
    "df.columns"
   ]
  },
  {
   "cell_type": "code",
   "execution_count": 273,
   "metadata": {},
   "outputs": [
    {
     "data": {
      "text/html": [
       "<div>\n",
       "<style scoped>\n",
       "    .dataframe tbody tr th:only-of-type {\n",
       "        vertical-align: middle;\n",
       "    }\n",
       "\n",
       "    .dataframe tbody tr th {\n",
       "        vertical-align: top;\n",
       "    }\n",
       "\n",
       "    .dataframe thead th {\n",
       "        text-align: right;\n",
       "    }\n",
       "</style>\n",
       "<table border=\"1\" class=\"dataframe\">\n",
       "  <thead>\n",
       "    <tr style=\"text-align: right;\">\n",
       "      <th></th>\n",
       "      <th>total_min_2</th>\n",
       "      <th>total_min_1</th>\n",
       "      <th>total_mean</th>\n",
       "      <th>total_max_1</th>\n",
       "      <th>total_max_2</th>\n",
       "    </tr>\n",
       "    <tr>\n",
       "      <th>date</th>\n",
       "      <th></th>\n",
       "      <th></th>\n",
       "      <th></th>\n",
       "      <th></th>\n",
       "      <th></th>\n",
       "    </tr>\n",
       "  </thead>\n",
       "  <tbody>\n",
       "    <tr>\n",
       "      <th>2020-06-01</th>\n",
       "      <td>0.000000e+00</td>\n",
       "      <td>0.000000e+00</td>\n",
       "      <td>0.000000e+00</td>\n",
       "      <td>0.000000e+00</td>\n",
       "      <td>0.000000e+00</td>\n",
       "    </tr>\n",
       "    <tr>\n",
       "      <th>2020-06-18</th>\n",
       "      <td>1.550544e+06</td>\n",
       "      <td>1.478518e+06</td>\n",
       "      <td>1.410337e+06</td>\n",
       "      <td>1.345515e+06</td>\n",
       "      <td>1.283620e+06</td>\n",
       "    </tr>\n",
       "    <tr>\n",
       "      <th>2020-06-19</th>\n",
       "      <td>1.553577e+06</td>\n",
       "      <td>1.481410e+06</td>\n",
       "      <td>1.413095e+06</td>\n",
       "      <td>1.348146e+06</td>\n",
       "      <td>1.286130e+06</td>\n",
       "    </tr>\n",
       "    <tr>\n",
       "      <th>2020-06-20</th>\n",
       "      <td>1.554244e+06</td>\n",
       "      <td>1.482046e+06</td>\n",
       "      <td>1.413702e+06</td>\n",
       "      <td>1.348725e+06</td>\n",
       "      <td>1.286683e+06</td>\n",
       "    </tr>\n",
       "  </tbody>\n",
       "</table>\n",
       "</div>"
      ],
      "text/plain": [
       "             total_min_2   total_min_1    total_mean   total_max_1  \\\n",
       "date                                                                 \n",
       "2020-06-01  0.000000e+00  0.000000e+00  0.000000e+00  0.000000e+00   \n",
       "2020-06-18  1.550544e+06  1.478518e+06  1.410337e+06  1.345515e+06   \n",
       "2020-06-19  1.553577e+06  1.481410e+06  1.413095e+06  1.348146e+06   \n",
       "2020-06-20  1.554244e+06  1.482046e+06  1.413702e+06  1.348725e+06   \n",
       "\n",
       "             total_max_2  \n",
       "date                      \n",
       "2020-06-01  0.000000e+00  \n",
       "2020-06-18  1.283620e+06  \n",
       "2020-06-19  1.286130e+06  \n",
       "2020-06-20  1.286683e+06  "
      ]
     },
     "execution_count": 273,
     "metadata": {},
     "output_type": "execute_result"
    }
   ],
   "source": [
    "df"
   ]
  },
  {
   "cell_type": "code",
   "execution_count": 279,
   "metadata": {},
   "outputs": [],
   "source": [
    "old = pd.read_csv(\"immuni.csv\", index_col=[\"date\"], parse_dates=[\"date\"])"
   ]
  },
  {
   "cell_type": "code",
   "execution_count": 280,
   "metadata": {},
   "outputs": [
    {
     "data": {
      "text/html": [
       "<div>\n",
       "<style scoped>\n",
       "    .dataframe tbody tr th:only-of-type {\n",
       "        vertical-align: middle;\n",
       "    }\n",
       "\n",
       "    .dataframe tbody tr th {\n",
       "        vertical-align: top;\n",
       "    }\n",
       "\n",
       "    .dataframe thead th {\n",
       "        text-align: right;\n",
       "    }\n",
       "</style>\n",
       "<table border=\"1\" class=\"dataframe\">\n",
       "  <thead>\n",
       "    <tr style=\"text-align: right;\">\n",
       "      <th></th>\n",
       "      <th>total_min_2</th>\n",
       "      <th>total_min_1</th>\n",
       "      <th>total_mean</th>\n",
       "      <th>total_max_1</th>\n",
       "      <th>total_max_2</th>\n",
       "    </tr>\n",
       "    <tr>\n",
       "      <th>date</th>\n",
       "      <th></th>\n",
       "      <th></th>\n",
       "      <th></th>\n",
       "      <th></th>\n",
       "      <th></th>\n",
       "    </tr>\n",
       "  </thead>\n",
       "  <tbody>\n",
       "    <tr>\n",
       "      <th>2020-06-01</th>\n",
       "      <td>0.000000e+00</td>\n",
       "      <td>0.000000e+00</td>\n",
       "      <td>0.000000e+00</td>\n",
       "      <td>0.000000e+00</td>\n",
       "      <td>0.000000e+00</td>\n",
       "    </tr>\n",
       "    <tr>\n",
       "      <th>2020-06-18</th>\n",
       "      <td>1.550544e+06</td>\n",
       "      <td>1.478518e+06</td>\n",
       "      <td>1.410337e+06</td>\n",
       "      <td>1.345515e+06</td>\n",
       "      <td>1.283620e+06</td>\n",
       "    </tr>\n",
       "    <tr>\n",
       "      <th>2020-06-19</th>\n",
       "      <td>1.553577e+06</td>\n",
       "      <td>1.481410e+06</td>\n",
       "      <td>1.413095e+06</td>\n",
       "      <td>1.348146e+06</td>\n",
       "      <td>1.286130e+06</td>\n",
       "    </tr>\n",
       "    <tr>\n",
       "      <th>2020-06-20</th>\n",
       "      <td>1.554244e+06</td>\n",
       "      <td>1.482046e+06</td>\n",
       "      <td>1.413702e+06</td>\n",
       "      <td>1.348725e+06</td>\n",
       "      <td>1.286683e+06</td>\n",
       "    </tr>\n",
       "  </tbody>\n",
       "</table>\n",
       "</div>"
      ],
      "text/plain": [
       "             total_min_2   total_min_1    total_mean   total_max_1  \\\n",
       "date                                                                 \n",
       "2020-06-01  0.000000e+00  0.000000e+00  0.000000e+00  0.000000e+00   \n",
       "2020-06-18  1.550544e+06  1.478518e+06  1.410337e+06  1.345515e+06   \n",
       "2020-06-19  1.553577e+06  1.481410e+06  1.413095e+06  1.348146e+06   \n",
       "2020-06-20  1.554244e+06  1.482046e+06  1.413702e+06  1.348725e+06   \n",
       "\n",
       "             total_max_2  \n",
       "date                      \n",
       "2020-06-01  0.000000e+00  \n",
       "2020-06-18  1.283620e+06  \n",
       "2020-06-19  1.286130e+06  \n",
       "2020-06-20  1.286683e+06  "
      ]
     },
     "execution_count": 280,
     "metadata": {},
     "output_type": "execute_result"
    }
   ],
   "source": [
    "old"
   ]
  },
  {
   "cell_type": "code",
   "execution_count": 308,
   "metadata": {},
   "outputs": [
    {
     "data": {
      "text/html": [
       "<div>\n",
       "<style scoped>\n",
       "    .dataframe tbody tr th:only-of-type {\n",
       "        vertical-align: middle;\n",
       "    }\n",
       "\n",
       "    .dataframe tbody tr th {\n",
       "        vertical-align: top;\n",
       "    }\n",
       "\n",
       "    .dataframe thead th {\n",
       "        text-align: right;\n",
       "    }\n",
       "</style>\n",
       "<table border=\"1\" class=\"dataframe\">\n",
       "  <thead>\n",
       "    <tr style=\"text-align: right;\">\n",
       "      <th></th>\n",
       "      <th>total_min_2</th>\n",
       "      <th>total_min_1</th>\n",
       "      <th>total_mean</th>\n",
       "      <th>total_max_1</th>\n",
       "      <th>total_max_2</th>\n",
       "    </tr>\n",
       "    <tr>\n",
       "      <th>date</th>\n",
       "      <th></th>\n",
       "      <th></th>\n",
       "      <th></th>\n",
       "      <th></th>\n",
       "      <th></th>\n",
       "    </tr>\n",
       "  </thead>\n",
       "  <tbody>\n",
       "    <tr>\n",
       "      <th>2020-06-18</th>\n",
       "      <td>1.550544e+06</td>\n",
       "      <td>1.478518e+06</td>\n",
       "      <td>1.410337e+06</td>\n",
       "      <td>1.345515e+06</td>\n",
       "      <td>1.283620e+06</td>\n",
       "    </tr>\n",
       "  </tbody>\n",
       "</table>\n",
       "</div>"
      ],
      "text/plain": [
       "             total_min_2   total_min_1    total_mean   total_max_1  \\\n",
       "date                                                                 \n",
       "2020-06-18  1.550544e+06  1.478518e+06  1.410337e+06  1.345515e+06   \n",
       "\n",
       "             total_max_2  \n",
       "date                      \n",
       "2020-06-18  1.283620e+06  "
      ]
     },
     "execution_count": 308,
     "metadata": {},
     "output_type": "execute_result"
    }
   ],
   "source": [
    "dic1 = {\n",
    "    \"date\": [today],\n",
    "    \"total_min_2\": [total_downloads[0]],\n",
    "    \"total_min_1\": [total_downloads[1]],\n",
    "    \"total_mean\": [total_downloads[2]],\n",
    "    \"total_max_1\": [total_downloads[3]],\n",
    "    \"total_max_2\": [total_downloads[4]],\n",
    "}\n",
    "df1 = pd.DataFrame(dic1)\n",
    "df1.set_index(\"date\", inplace=True)\n",
    "df1"
   ]
  },
  {
   "cell_type": "code",
   "execution_count": 292,
   "metadata": {},
   "outputs": [
    {
     "data": {
      "text/plain": [
       "['total_min_2', 'total_min_1', 'total_mean', 'total_max_1']"
      ]
     },
     "execution_count": 292,
     "metadata": {},
     "output_type": "execute_result"
    }
   ],
   "source": [
    "list(dic1.keys())[1:5]"
   ]
  },
  {
   "cell_type": "code",
   "execution_count": null,
   "metadata": {},
   "outputs": [],
   "source": []
  }
 ],
 "metadata": {
  "kernelspec": {
   "display_name": "Python 3",
   "language": "python",
   "name": "python3"
  },
  "language_info": {
   "codemirror_mode": {
    "name": "ipython",
    "version": 3
   },
   "file_extension": ".py",
   "mimetype": "text/x-python",
   "name": "python",
   "nbconvert_exporter": "python",
   "pygments_lexer": "ipython3",
   "version": "3.7.7"
  }
 },
 "nbformat": 4,
 "nbformat_minor": 4
}
